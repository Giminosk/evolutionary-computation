{
 "cells": [
  {
   "cell_type": "code",
   "execution_count": 65,
   "id": "da0b5d63",
   "metadata": {},
   "outputs": [],
   "source": [
    "def get_node_moves(solution, flag):\n",
    "    solution = solution[:-1]\n",
    "    n = len(solution)\n",
    "    moves = list()\n",
    "    if flag == 'intra':\n",
    "        for i in range(len(solution) - 1):\n",
    "            for j in range(i+1, len(solution)):\n",
    "                moves.append((solution[i], solution[j]))\n",
    "    elif flag == 'inter':\n",
    "        outer_nodes = list(set(range(int(n*2))) - set(solution))\n",
    "        for i in range(len(solution)):\n",
    "            for j in range(len(outer_nodes)):\n",
    "                moves.append((solution[i], outer_nodes[j]))   \n",
    "    return moves"
   ]
  },
  {
   "cell_type": "code",
   "execution_count": 67,
   "id": "cbf6cb5c",
   "metadata": {},
   "outputs": [],
   "source": [
    "def get_edge_moves(solution):\n",
    "    solution = solution[:-1]\n",
    "    moves = list()\n",
    "    for i in range(len(solution) - 1):\n",
    "        for j in range(i + 2, len(solution) - 1):\n",
    "            edge1 = (solution[i], solution[i + 1])\n",
    "            edge2 = (solution[j], solution[j + 1])\n",
    "            moves.append((edge1, edge2))\n",
    "    return moves"
   ]
  },
  {
   "cell_type": "code",
   "execution_count": 89,
   "id": "23cd96d2",
   "metadata": {},
   "outputs": [],
   "source": [
    "def compute_node_swap_delta(solution, swap, distance_matrix, costs, flag):\n",
    "    new_solution = solution[:-1]\n",
    "    n = len(new_solution)\n",
    "    if flag == 'intra':\n",
    "        node1, node2 = swap\n",
    "        node1_idx, node2_idx = new_solution.index(node1), new_solution.index(node2)\n",
    "        prev_node1, next_node1 = new_solution[node1_idx-1], new_solution[(node1_idx+1)%n]\n",
    "        prev_node2, next_node2 = new_solution[node2_idx-1], new_solution[(node2_idx+1)%n]\n",
    "\n",
    "        old_cost = distance_matrix[prev_node1][node1] + distance_matrix[node1][next_node1] + \\\n",
    "                   distance_matrix[prev_node2][node2] + distance_matrix[node2][next_node2]\n",
    "        \n",
    "        new_cost = distance_matrix[prev_node1][node2] + distance_matrix[node2][next_node1] + \\\n",
    "                   distance_matrix[prev_node2][node1] + distance_matrix[node1][next_node2]\n",
    "        \n",
    "        delta = old_cost - new_cost\n",
    "        new_solution[node1_idx], new_solution[node2_idx] = new_solution[node2_idx], new_solution[node1_idx]\n",
    "        new_solution.append(new_solution[0])\n",
    "    elif flag == 'inter':\n",
    "        solution_node, outer_node = swap\n",
    "        solution_node_idx = new_solution.index(solution_node)\n",
    "        prev_solution_node, next_solution_node = new_solution[solution_node_idx-1], new_solution[(solution_node_idx+1)%n]\n",
    "\n",
    "        old_cost = distance_matrix[prev_solution_node][solution_node] + distance_matrix[solution_node][next_solution_node] + \\\n",
    "                   costs[solution_node]\n",
    "        new_cost = distance_matrix[prev_solution_node][outer_node] + distance_matrix[outer_node][next_solution_node] + \\\n",
    "                   costs[outer_node]\n",
    "        \n",
    "        delta = old_cost - new_cost\n",
    "        new_solution[solution_node_idx] = outer_node\n",
    "        new_solution.append(new_solution[0])\n",
    "\n",
    "    return delta, new_solution"
   ]
  },
  {
   "cell_type": "code",
   "execution_count": 69,
   "id": "e13503b0",
   "metadata": {},
   "outputs": [],
   "source": [
    "def compute_edge_swap_delta(solution, swap, distance_matrix):\n",
    "    (edge1_start, edge1_end), (edge2_start, edge2_end) = swap\n",
    "    idx_edge1_start = solution.index(edge1_start)\n",
    "    idx_edge2_start = solution.index(edge2_start)\n",
    "    \n",
    "    old_distance = distance_matrix[edge1_start][edge1_end] + distance_matrix[edge2_start][edge2_end]\n",
    "    new_distance = distance_matrix[edge1_start][edge2_start] + distance_matrix[edge1_end][edge2_end]\n",
    "    \n",
    "    delta = old_distance - new_distance\n",
    "\n",
    "\n",
    "    if idx_edge1_start < idx_edge2_start:\n",
    "        new_solution = solution[:idx_edge1_start+1] + solution[idx_edge1_start+1:idx_edge2_start+1][::-1] + \\\n",
    "                       solution[idx_edge2_start+1:] \n",
    "    else:\n",
    "        new_solution = solution[:idx_edge2_start+1] + solution[idx_edge2_start+1:idx_edge1_start+1][::-1] + \\\n",
    "                       solution[idx_edge1_start+1:]\n",
    "    return delta, new_solution"
   ]
  }
 ],
 "metadata": {
  "kernelspec": {
   "display_name": "Python 3 (ipykernel)",
   "language": "python",
   "name": "python3"
  },
  "language_info": {
   "codemirror_mode": {
    "name": "ipython",
    "version": 3
   },
   "file_extension": ".py",
   "mimetype": "text/x-python",
   "name": "python",
   "nbconvert_exporter": "python",
   "pygments_lexer": "ipython3",
   "version": "3.11.2"
  }
 },
 "nbformat": 4,
 "nbformat_minor": 5
}
