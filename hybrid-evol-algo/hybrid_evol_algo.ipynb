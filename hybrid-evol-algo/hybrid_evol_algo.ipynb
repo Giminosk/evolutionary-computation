{
 "cells": [
  {
   "cell_type": "code",
   "execution_count": 1,
   "metadata": {},
   "outputs": [],
   "source": [
    "import numpy as np\n",
    "import pandas as pd\n",
    "from scipy.spatial.distance import pdist, squareform\n",
    "import time\n",
    "from itertools import combinations, product\n",
    "import copy\n",
    "import functools\n",
    "import random\n",
    "import ast\n",
    "\n",
    "import warnings\n",
    "warnings.filterwarnings(\"ignore\")\n",
    "\n",
    "import matplotlib.pyplot as plt\n",
    "import matplotlib.colors as mcolors"
   ]
  },
  {
   "cell_type": "code",
   "execution_count": 2,
   "metadata": {},
   "outputs": [],
   "source": [
    "def get_distance_matrix(df):\n",
    "    coords = df[['x', 'y']].to_numpy()\n",
    "    \n",
    "    distance_matrix = np.round(squareform(pdist(coords, 'euclidean')))\n",
    "    np.fill_diagonal(distance_matrix, 0)\n",
    "    \n",
    "    return distance_matrix\n",
    "\n",
    "\n",
    "def random_search(distance_matrix):\n",
    "    n = len(distance_matrix)\n",
    "    \n",
    "    solution = list(range(n))\n",
    "    np.random.shuffle(solution)\n",
    "    \n",
    "    return solution[:(n//2)]\n",
    "\n",
    "\n",
    "def get_total_cost(solution, distance_matrix, costs):\n",
    "    assert len(solution) * 2 == len(distance_matrix)\n",
    "    total_cost = 0\n",
    "    \n",
    "    for i in range(len(solution)-1):\n",
    "        total_cost += distance_matrix[solution[i], solution[i+1]] + costs[solution[i+1]]\n",
    "        \n",
    "    total_cost += distance_matrix[solution[-1], solution[0]] + costs[solution[0]]\n",
    "        \n",
    "    return total_cost\n"
   ]
  },
  {
   "cell_type": "code",
   "execution_count": 3,
   "metadata": {},
   "outputs": [],
   "source": [
    "def compute_inter_move_delta(solution, distance_matrix, costs, idx, new_node):\n",
    "    n = len(solution)\n",
    "    new_solution = solution.copy()\n",
    "    old_node = solution[idx]\n",
    "\n",
    "    new = (costs[new_node] +\n",
    "            distance_matrix[new_solution[idx-1], new_node] +\n",
    "            distance_matrix[new_node, new_solution[(idx+1)%n]])\n",
    "\n",
    "    old = (costs[old_node] +\n",
    "             distance_matrix[new_solution[idx-1], old_node] +\n",
    "             distance_matrix[old_node, new_solution[(idx+1)%n]])\n",
    "\n",
    "    delta = new - old\n",
    "    new_solution[idx] = new_node\n",
    "\n",
    "    return new_solution, delta\n",
    "\n",
    "\n",
    "\n",
    "def compute_intra_move_delta(solution, distance_matrix, indices, backward=False):\n",
    "    ## without roll/shift to initial form\n",
    "    n = len(solution)\n",
    "    i, j = indices\n",
    "    \n",
    "    if i >= j: raise Exception('Wrong indices, i >= j')\n",
    "    if j >= n: raise Exception('Wrong indices, j >= n')\n",
    "    \n",
    "    if backward:\n",
    "        if (i == 0 and j in (n-1, n-2)) or (j == n-1 and i in (0, 1)):\n",
    "            return solution, 0\n",
    "        new = distance_matrix[solution[i], solution[(j+1)%n]] + distance_matrix[solution[j], solution[i-1]]\n",
    "        old = distance_matrix[solution[i-1], solution[i]] + distance_matrix[solution[j], solution[(j+1)%n]]\n",
    "    else:\n",
    "        if j - i in (1, 2):\n",
    "            return solution, 0\n",
    "        new = distance_matrix[solution[i], solution[j-1]] + distance_matrix[solution[i+1], solution[j]]\n",
    "        old = distance_matrix[solution[i], solution[i+1]] + distance_matrix[solution[j-1], solution[j]]\n",
    "        \n",
    "    delta = new - old\n",
    "    \n",
    "    if backward:\n",
    "        new_solution = solution[j+1:][::-1] + solution[i:j+1] + solution[:i][::-1]\n",
    "    else:\n",
    "        new_solution = solution[:i+1] + solution[i+1:j][::-1] + solution[j:]\n",
    "\n",
    "    return new_solution, delta\n",
    "\n",
    "\n",
    "\n",
    "def steepest_local_search(solution, distance_matrix, costs):\n",
    "    solution = solution[:]\n",
    "    n, N = len(solution), len(distance_matrix)\n",
    "    solution_set = set(solution)\n",
    "    outer_nodes_set = set(range(N)) - solution_set \n",
    "    \n",
    "    while True:\n",
    "        best_delta, best_solution = 0, None\n",
    "        inter_move_flag, inter_move_outer_node, inter_move_inner_node_idx = False, None, None\n",
    "        \n",
    "        # inter\n",
    "        for outer_node, inner_node_idx in product(outer_nodes_set, range(n)):\n",
    "            new_solution, delta = compute_inter_move_delta(solution, distance_matrix, costs, inner_node_idx, outer_node)\n",
    "            if delta < best_delta:\n",
    "                best_delta = delta\n",
    "                best_solution = new_solution[:]\n",
    "                inter_move_flag = True\n",
    "                inter_move_outer_node, inter_move_inner_node_idx = outer_node, inner_node_idx\n",
    "                \n",
    "        # intra\n",
    "        for i, j in combinations(range(n), 2):\n",
    "            # forward\n",
    "            new_solution, delta = compute_intra_move_delta(solution, distance_matrix, (i, j), False)\n",
    "            if delta < best_delta:\n",
    "                best_delta = delta\n",
    "                best_solution = new_solution[:]\n",
    "                inter_move_flag = False\n",
    "            # backward\n",
    "            new_solution, delta = compute_intra_move_delta(solution, distance_matrix, (i, j), True)\n",
    "            if delta < best_delta:\n",
    "                best_delta = delta\n",
    "                best_solution = new_solution[:]\n",
    "                inter_move_flag = False\n",
    "        \n",
    "        if best_solution is not None:\n",
    "            if inter_move_flag:\n",
    "               solution_set.add(inter_move_outer_node) \n",
    "               solution_set.remove(solution[inter_move_inner_node_idx])\n",
    "               outer_nodes_set.remove(inter_move_outer_node) \n",
    "               outer_nodes_set.add(solution[inter_move_inner_node_idx]) \n",
    "            solution = best_solution[:]             \n",
    "            continue\n",
    "        return solution"
   ]
  },
  {
   "cell_type": "code",
   "execution_count": 4,
   "metadata": {},
   "outputs": [],
   "source": [
    "def greedy_2_regret_weighted(distance_matrix, partial_solution, costs, target_size, regret_weight=0.5):\n",
    "    num_nodes = len(distance_matrix)\n",
    "    to_visit = set(range(num_nodes)) - set(partial_solution)\n",
    "    \n",
    "    solution = partial_solution[:]\n",
    "\n",
    "    while len(solution) < target_size:\n",
    "        max_weighted_sum = float('-inf')\n",
    "        best_node = None\n",
    "        best_insertion_point = None\n",
    "\n",
    "        for node in to_visit:\n",
    "            insertion_costs = []\n",
    "            for i in range(len(solution) - 1):\n",
    "                cost = distance_matrix[solution[i]][node] + distance_matrix[node][solution[i+1]] - distance_matrix[solution[i]][solution[i+1]] + costs[node]\n",
    "                insertion_costs.append((cost, i))\n",
    "\n",
    "            insertion_costs.append((distance_matrix[solution[-1]][node] + distance_matrix[node][solution[0]] - distance_matrix[solution[-1]][solution[0]] + costs[node], len(solution) - 1))\n",
    "\n",
    "            insertion_costs.sort(key=lambda x: x[0])\n",
    "\n",
    "            weighted_sum = 0\n",
    "            if len(insertion_costs) > 1:\n",
    "                regret = insertion_costs[1][0] - insertion_costs[0][0]\n",
    "                objective = -insertion_costs[0][0]\n",
    "                weighted_sum = regret_weight * regret + (1 - regret_weight) * objective\n",
    "\n",
    "            if weighted_sum > max_weighted_sum:\n",
    "                max_weighted_sum = weighted_sum\n",
    "                best_node = node\n",
    "                best_insertion_point = insertion_costs[0][1]\n",
    "\n",
    "        solution.insert(best_insertion_point + 1, best_node)\n",
    "        to_visit.remove(best_node)\n",
    "\n",
    "    return solution"
   ]
  },
  {
   "cell_type": "code",
   "execution_count": null,
   "metadata": {},
   "outputs": [],
   "source": []
  },
  {
   "cell_type": "code",
   "execution_count": 5,
   "metadata": {},
   "outputs": [],
   "source": [
    "def get_initial_population(pop_size, distance_matrix, costs):\n",
    "    population = []\n",
    "    for _ in range(pop_size):\n",
    "        solution = random_search(distance_matrix)\n",
    "        new_solution = steepest_local_search(solution, distance_matrix, costs)\n",
    "        population.append(new_solution)\n",
    "    return population"
   ]
  },
  {
   "cell_type": "code",
   "execution_count": 50,
   "metadata": {},
   "outputs": [],
   "source": [
    "def operator_1(parent1, parent2):\n",
    "    length = len(parent1)\n",
    "    child = [None] * length\n",
    "\n",
    "    edges1 = {tuple(sorted((parent1[i], parent1[(i + 1) % length]))) for i in range(length)}\n",
    "    edges2 = {tuple(sorted((parent2[i], parent2[(i + 1) % length]))) for i in range(length)}\n",
    "    common_edges = edges1.intersection(edges2)\n",
    "\n",
    "    for i in range(length - 1):\n",
    "        edge = tuple(sorted((parent1[i], parent1[i + 1])))\n",
    "        if edge in common_edges:\n",
    "            child[i] = parent1[i]\n",
    "            child[i + 1] = parent1[i + 1]\n",
    "\n",
    "    common_nodes = set(parent1) & set(parent2) - set(child)\n",
    "\n",
    "    for node in common_nodes:\n",
    "        for i in range(length):\n",
    "            if child[i] is None:\n",
    "                child[i] = node\n",
    "                break\n",
    "\n",
    "    remaining_nodes = [node for node in range(length * 2) if node not in child]\n",
    "    random.shuffle(remaining_nodes)\n",
    "    for i in range(length):\n",
    "        if child[i] is None:\n",
    "            child[i] = remaining_nodes.pop()\n",
    "\n",
    "    return child"
   ]
  },
  {
   "cell_type": "code",
   "execution_count": 51,
   "metadata": {},
   "outputs": [],
   "source": [
    "def operator_2(parent1, parent2, distance_matrix, costs):\n",
    "    length = len(parent1)\n",
    "    \n",
    "    edges1 = {tuple(sorted((parent1[i], parent1[(i + 1) % length]))) for i in range(length)}\n",
    "    edges2 = {tuple(sorted((parent2[i], parent2[(i + 1) % length]))) for i in range(length)}\n",
    "    common_edges = edges1.intersection(edges2)\n",
    "\n",
    "    modified_parent = []\n",
    "    for i in range(length - 1):\n",
    "        edge = tuple(sorted((parent1[i], parent1[i + 1])))\n",
    "        if edge in common_edges:\n",
    "            if not modified_parent or modified_parent[-1] != parent1[i]:\n",
    "                modified_parent.append(parent1[i])\n",
    "            modified_parent.append(parent1[i + 1])\n",
    "            \n",
    "    modified_parent = greedy_2_regret_weighted(distance_matrix, modified_parent, costs, length)\n",
    "\n",
    "    return modified_parent"
   ]
  },
  {
   "cell_type": "code",
   "execution_count": 7,
   "metadata": {},
   "outputs": [],
   "source": [
    "df = pd.read_csv('../data/TSPA.csv', names=['x', 'y', 'cost'], sep=';')\n",
    "distance_matrix = get_distance_matrix(df)\n",
    "costs = df.cost.to_numpy()"
   ]
  },
  {
   "cell_type": "code",
   "execution_count": 32,
   "metadata": {},
   "outputs": [
    {
     "data": {
      "text/plain": [
       "278756.0"
      ]
     },
     "execution_count": 32,
     "metadata": {},
     "output_type": "execute_result"
    }
   ],
   "source": [
    "solution = random_search(distance_matrix)\n",
    "get_total_cost(solution, distance_matrix, costs)"
   ]
  },
  {
   "cell_type": "code",
   "execution_count": 30,
   "metadata": {},
   "outputs": [
    {
     "data": {
      "text/plain": [
       "82083.0"
      ]
     },
     "execution_count": 30,
     "metadata": {},
     "output_type": "execute_result"
    }
   ],
   "source": [
    "solution1 = steepest_local_search(solution, distance_matrix, costs)\n",
    "get_total_cost(solution1, distance_matrix, costs)"
   ]
  },
  {
   "cell_type": "code",
   "execution_count": 33,
   "metadata": {},
   "outputs": [
    {
     "data": {
      "text/plain": [
       "78368.0"
      ]
     },
     "execution_count": 33,
     "metadata": {},
     "output_type": "execute_result"
    }
   ],
   "source": [
    "solution2 = steepest_local_search(solution, distance_matrix, costs)\n",
    "get_total_cost(solution2, distance_matrix, costs)"
   ]
  },
  {
   "cell_type": "code",
   "execution_count": 55,
   "metadata": {},
   "outputs": [
    {
     "data": {
      "text/plain": [
       "170212.0"
      ]
     },
     "execution_count": 55,
     "metadata": {},
     "output_type": "execute_result"
    }
   ],
   "source": [
    "solution3 = operator_1(solution1, solution2)\n",
    "get_total_cost(solution3, distance_matrix, costs)"
   ]
  }
 ],
 "metadata": {
  "kernelspec": {
   "display_name": "base",
   "language": "python",
   "name": "python3"
  },
  "language_info": {
   "codemirror_mode": {
    "name": "ipython",
    "version": 3
   },
   "file_extension": ".py",
   "mimetype": "text/x-python",
   "name": "python",
   "nbconvert_exporter": "python",
   "pygments_lexer": "ipython3",
   "version": "3.10.9"
  }
 },
 "nbformat": 4,
 "nbformat_minor": 2
}
