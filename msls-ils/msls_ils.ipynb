{
 "cells": [
  {
   "cell_type": "code",
   "execution_count": 199,
   "metadata": {},
   "outputs": [],
   "source": [
    "import numpy as np\n",
    "import pandas as pd\n",
    "from scipy.spatial.distance import pdist, squareform\n",
    "import time\n",
    "from itertools import combinations, product\n",
    "import copy\n",
    "import functools\n",
    "import random\n",
    "\n",
    "import warnings\n",
    "warnings.filterwarnings(\"ignore\")\n",
    "\n",
    "import matplotlib.pyplot as plt\n",
    "import matplotlib.colors as mcolors"
   ]
  },
  {
   "cell_type": "code",
   "execution_count": 200,
   "metadata": {},
   "outputs": [],
   "source": [
    "def get_distance_matrix(df):\n",
    "    coords = df[['x', 'y']].to_numpy()\n",
    "    \n",
    "    distance_matrix = np.round(squareform(pdist(coords, 'euclidean')))\n",
    "    np.fill_diagonal(distance_matrix, 0)\n",
    "    \n",
    "    return distance_matrix\n",
    "\n",
    "\n",
    "def random_search(distance_matrix):\n",
    "    n = len(distance_matrix)\n",
    "    \n",
    "    solution = list(range(n))\n",
    "    np.random.shuffle(solution)\n",
    "    \n",
    "    return solution[:(n//2)]\n",
    "\n",
    "\n",
    "def get_total_cost(solution, distance_matrix, costs):\n",
    "    assert len(solution) * 2 == len(distance_matrix)\n",
    "    total_cost = 0\n",
    "    \n",
    "    for i in range(len(solution)-1):\n",
    "        total_cost += distance_matrix[solution[i], solution[i+1]] + costs[solution[i+1]]\n",
    "        \n",
    "    total_cost += distance_matrix[solution[-1], solution[0]] + costs[solution[0]]\n",
    "        \n",
    "    return total_cost\n"
   ]
  },
  {
   "cell_type": "code",
   "execution_count": 201,
   "metadata": {},
   "outputs": [],
   "source": [
    "def compute_inter_move_delta(solution, distance_matrix, costs, idx, new_node):\n",
    "    n = len(solution)\n",
    "    new_solution = solution.copy()\n",
    "    old_node = solution[idx]\n",
    "\n",
    "    new = (costs[new_node] +\n",
    "            distance_matrix[new_solution[idx-1], new_node] +\n",
    "            distance_matrix[new_node, new_solution[(idx+1)%n]])\n",
    "\n",
    "    old = (costs[old_node] +\n",
    "             distance_matrix[new_solution[idx-1], old_node] +\n",
    "             distance_matrix[old_node, new_solution[(idx+1)%n]])\n",
    "\n",
    "    delta = new - old\n",
    "    new_solution[idx] = new_node\n",
    "\n",
    "    return new_solution, delta\n",
    "\n",
    "\n",
    "\n",
    "def compute_intra_move_delta(solution, distance_matrix, indices, backward=False):\n",
    "    ## without roll/shift to initial form\n",
    "    n = len(solution)\n",
    "    i, j = indices\n",
    "    \n",
    "    if i >= j: raise Exception('Wrong indices, i >= j')\n",
    "    if j >= n: raise Exception('Wrong indices, j >= n')\n",
    "    \n",
    "    if backward:\n",
    "        if (i == 0 and j in (n-1, n-2)) or (j == n-1 and i in (0, 1)):\n",
    "            return solution, 0\n",
    "        new = distance_matrix[solution[i], solution[(j+1)%n]] + distance_matrix[solution[j], solution[i-1]]\n",
    "        old = distance_matrix[solution[i-1], solution[i]] + distance_matrix[solution[j], solution[(j+1)%n]]\n",
    "    else:\n",
    "        if j - i in (1, 2):\n",
    "            return solution, 0\n",
    "        new = distance_matrix[solution[i], solution[j-1]] + distance_matrix[solution[i+1], solution[j]]\n",
    "        old = distance_matrix[solution[i], solution[i+1]] + distance_matrix[solution[j-1], solution[j]]\n",
    "        \n",
    "    delta = new - old\n",
    "    \n",
    "    if backward:\n",
    "        new_solution = solution[j+1:][::-1] + solution[i:j+1] + solution[:i][::-1]\n",
    "    else:\n",
    "        new_solution = solution[:i+1] + solution[i+1:j][::-1] + solution[j:]\n",
    "\n",
    "    return new_solution, delta\n",
    "\n",
    "\n",
    "\n",
    "def steepest_local_search(solution, distance_matrix, costs):\n",
    "    solution = solution[:]\n",
    "    n, N = len(solution), len(distance_matrix)\n",
    "    solution_set = set(solution)\n",
    "    outer_nodes_set = set(range(N)) - solution_set \n",
    "    \n",
    "    while True:\n",
    "        best_delta, best_solution = 0, None\n",
    "        inter_move_flag, inter_move_outer_node, inter_move_inner_node_idx = False, None, None\n",
    "        \n",
    "        # inter\n",
    "        for outer_node, inner_node_idx in product(outer_nodes_set, range(n)):\n",
    "            new_solution, delta = compute_inter_move_delta(solution, distance_matrix, costs, inner_node_idx, outer_node)\n",
    "            if delta < best_delta:\n",
    "                best_delta = delta\n",
    "                best_solution = new_solution[:]\n",
    "                inter_move_flag = True\n",
    "                inter_move_outer_node, inter_move_inner_node_idx = outer_node, inner_node_idx\n",
    "                \n",
    "        # intra\n",
    "        for i, j in combinations(range(n), 2):\n",
    "            # forward\n",
    "            new_solution, delta = compute_intra_move_delta(solution, distance_matrix, (i, j), False)\n",
    "            if delta < best_delta:\n",
    "                best_delta = delta\n",
    "                best_solution = new_solution[:]\n",
    "                inter_move_flag = False\n",
    "            # backward\n",
    "            new_solution, delta = compute_intra_move_delta(solution, distance_matrix, (i, j), True)\n",
    "            if delta < best_delta:\n",
    "                best_delta = delta\n",
    "                best_solution = new_solution[:]\n",
    "                inter_move_flag = False\n",
    "        \n",
    "        if best_solution is not None:\n",
    "            if inter_move_flag:\n",
    "               solution_set.add(inter_move_outer_node) \n",
    "               solution_set.remove(solution[inter_move_inner_node_idx])\n",
    "               outer_nodes_set.remove(inter_move_outer_node) \n",
    "               outer_nodes_set.add(solution[inter_move_inner_node_idx]) \n",
    "            solution = best_solution[:]             \n",
    "            continue\n",
    "        return solution"
   ]
  },
  {
   "cell_type": "code",
   "execution_count": 202,
   "metadata": {},
   "outputs": [],
   "source": [
    "def msls(instance, num_runs=200):\n",
    "    df = pd.read_csv(f'../data/{instance}.csv', sep=';', names=['x', 'y', 'cost'])\n",
    "    costs = df.cost.to_numpy()\n",
    "    distance_matrix = get_distance_matrix(df)\n",
    "\n",
    "    best_total_cost, best_solution = float('inf'), None\n",
    "    for _ in range(num_runs):\n",
    "        solution = random_search(distance_matrix)\n",
    "        new_solution = steepest_local_search(solution, distance_matrix, costs)\n",
    "        total_cost = get_total_cost(new_solution, distance_matrix, costs)\n",
    "        if total_cost < best_total_cost:\n",
    "            best_total_cost = total_cost\n",
    "            best_solution = new_solution[:]\n",
    "            \n",
    "    return best_total_cost, best_solution"
   ]
  },
  {
   "cell_type": "code",
   "execution_count": 203,
   "metadata": {},
   "outputs": [],
   "source": [
    "def random_insertion(solution, n=5):\n",
    "    for i in range(n):\n",
    "        which, where = random.randint(0, len(solution)-1), random.randint(0, len(solution))\n",
    "        solution.insert(where, solution.pop(which))\n",
    "    return solution\n",
    "\n",
    "\n",
    "\n",
    "def double_bridge_move(solution):\n",
    "    a, b, c = sorted(random.sample(range(1, len(solution) - 2), 3))\n",
    "    return solution[:a] + solution[c:] + solution[b:c] + solution[a:b]\n",
    "\n",
    "\n",
    "\n",
    "def shuffle_sub_tour(solution):\n",
    "    n = len(solution)\n",
    "    sub_tour_length = random.randint(int(0.05 * n), int(0.15 * n))\n",
    "    start_idx = random.randint(0, n - sub_tour_length)\n",
    "    end_idx = start_idx + sub_tour_length\n",
    "\n",
    "    sub_tour = solution[start_idx:end_idx]\n",
    "    random.shuffle(sub_tour)\n",
    "    solution = solution[:start_idx] + sub_tour + solution[end_idx:]\n",
    "\n",
    "    return solution\n",
    "\n",
    "\n",
    "\n",
    "def random_jump(solution):\n",
    "    n = len(solution)\n",
    "    sub_tour_length = random.randint(int(0.05 * n), int(0.15 * n))\n",
    "    start_idx = random.randint(0, n - sub_tour_length)\n",
    "    end_idx = start_idx + sub_tour_length\n",
    "    sub_tour = solution[start_idx:end_idx]\n",
    "\n",
    "    new_solution = solution[:start_idx] + solution[end_idx:]\n",
    "\n",
    "    insert_idx = random.randint(0, len(new_solution))\n",
    "    new_solution = new_solution[:insert_idx] + sub_tour + new_solution[insert_idx:]\n",
    "\n",
    "    return new_solution\n",
    "\n",
    "\n",
    "\n",
    "def k_opt_move(solution, k=4):\n",
    "    n = len(solution)\n",
    "    edges = sorted(random.sample(range(n), k))\n",
    "    edges.append(edges[0])\n",
    "\n",
    "    new_solution = []\n",
    "    for i in range(k):\n",
    "        start, end = edges[i], edges[i + 1]\n",
    "        if start < end:\n",
    "            new_solution.extend(solution[start:end])\n",
    "        else:\n",
    "            new_solution.extend(solution[start:] + solution[:end])\n",
    "\n",
    "        if i % 2 == 1:\n",
    "            new_solution[-(end-start):] = reversed(new_solution[-(end-start):])\n",
    "\n",
    "    return new_solution\n",
    "\n",
    "\n",
    "\n",
    "def perturb(solution):\n",
    "    perturbations = (random_insertion, double_bridge_move, shuffle_sub_tour, random_jump, k_opt_move)\n",
    "    action = random.choice(perturbations)\n",
    "    solution = action(solution)\n",
    "    return solution"
   ]
  },
  {
   "cell_type": "code",
   "execution_count": 204,
   "metadata": {},
   "outputs": [],
   "source": [
    "def ils(solution, distance_matrix, costs, end_time):\n",
    "    \n",
    "    start = time.time()\n",
    "    best_total_cost = get_total_cost(solution, distance_matrix, costs)\n",
    "    \n",
    "    while True:\n",
    "        solution_perturbed = solution[:]\n",
    "        solution_perturbed = perturb(solution_perturbed)\n",
    "        new_solution = steepest_local_search(solution_perturbed, distance_matrix, costs)\n",
    "        new_total_cost = get_total_cost(new_solution, distance_matrix, costs)\n",
    "        \n",
    "        if new_total_cost < best_total_cost:\n",
    "            best_total_cost = new_total_cost\n",
    "            solution = new_solution[:]\n",
    "    \n",
    "        if time.time() - start >= end_time:\n",
    "            return best_total_cost, solution "
   ]
  },
  {
   "cell_type": "code",
   "execution_count": 205,
   "metadata": {},
   "outputs": [],
   "source": [
    "df = pd.read_csv('../data/TSPA.csv', sep=';', names=['x', 'y', 'cost'])\n",
    "costs = df.cost.to_numpy()\n",
    "distance_matrix = get_distance_matrix(df)"
   ]
  },
  {
   "cell_type": "code",
   "execution_count": 206,
   "metadata": {},
   "outputs": [],
   "source": [
    "solution = random_search(distance_matrix)"
   ]
  },
  {
   "cell_type": "code",
   "execution_count": 207,
   "metadata": {},
   "outputs": [
    {
     "data": {
      "text/plain": [
       "257197.0"
      ]
     },
     "execution_count": 207,
     "metadata": {},
     "output_type": "execute_result"
    }
   ],
   "source": [
    "get_total_cost(solution, distance_matrix, costs)"
   ]
  },
  {
   "cell_type": "code",
   "execution_count": 208,
   "metadata": {},
   "outputs": [],
   "source": [
    "new_solution = ils(solution, distance_matrix, costs, 1200)"
   ]
  },
  {
   "cell_type": "code",
   "execution_count": 209,
   "metadata": {},
   "outputs": [
    {
     "data": {
      "text/plain": [
       "73118.0"
      ]
     },
     "execution_count": 209,
     "metadata": {},
     "output_type": "execute_result"
    }
   ],
   "source": [
    "get_total_cost(new_solution[1], distance_matrix, costs)"
   ]
  },
  {
   "cell_type": "code",
   "execution_count": null,
   "metadata": {},
   "outputs": [],
   "source": []
  },
  {
   "cell_type": "code",
   "execution_count": 210,
   "metadata": {},
   "outputs": [],
   "source": [
    "df = pd.read_csv('./results_msls.txt', sep=' - ', names=['instance', 'total_cost', 'time', 'solution'])"
   ]
  },
  {
   "cell_type": "code",
   "execution_count": 217,
   "metadata": {},
   "outputs": [
    {
     "data": {
      "text/plain": [
       "array([1264., 1310., 1267., 1269.])"
      ]
     },
     "execution_count": 217,
     "metadata": {},
     "output_type": "execute_result"
    }
   ],
   "source": [
    "np.round(df.groupby('instance')['time'].mean().values)"
   ]
  }
 ],
 "metadata": {
  "kernelspec": {
   "display_name": "base",
   "language": "python",
   "name": "python3"
  },
  "language_info": {
   "codemirror_mode": {
    "name": "ipython",
    "version": 3
   },
   "file_extension": ".py",
   "mimetype": "text/x-python",
   "name": "python",
   "nbconvert_exporter": "python",
   "pygments_lexer": "ipython3",
   "version": "3.10.9"
  }
 },
 "nbformat": 4,
 "nbformat_minor": 2
}
